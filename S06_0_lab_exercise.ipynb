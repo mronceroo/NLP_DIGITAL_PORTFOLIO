{
 "cells": [
  {
   "cell_type": "code",
   "execution_count": 2,
   "metadata": {},
   "outputs": [],
   "source": [
    "# For the next text, perform the following actions\n",
    "text = \"The president of the U.S.A., Donald Trump, is 1.9m high and 78 years old. Forbes Magazine has assessed his wealth, currently estimating it at $5.5 billion as of mid-February 2025.\"\n",
    "\n",
    "# (1 point) 1 - Use NLTK to split the sentences \n",
    "\n",
    "# (2 points) 2 - Convert with regex the acronym U.S.A. to USA, the number 1.9m to 190 centimeters or any other number of a height like that (e.g. 1.75m to 175 centimeters), and \"$5.5 billion\" to five point five billion. \n",
    "\n",
    "# (1 point) 3 - Convert to lowercase except the proper nouns that must keep the original case. For the multiword proper names convert them to an unique word joining the two word with underscoere (Juan Fernández -> Juan_Fernández).\n",
    "\n",
    "# (1 point) 4 - Tokenize the text (use the tool you prefer). \n",
    "\n",
    "# (1 point) 5 - Remove the stopwords (use the tool you prefer). \n",
    "\n",
    "# (1 point) 6 - Create bigrams with pure python.\n",
    "\n",
    "# (2 point) 7 - Create a language model that predict the next word using bigrams. Please explain in the code how you made the calculations.\n",
    "\n",
    "\n"
   ]
  },
  {
   "cell_type": "code",
   "execution_count": 7,
   "metadata": {},
   "outputs": [
    {
     "name": "stdout",
     "output_type": "stream",
     "text": [
      "['The president of the U.S.A., Donald Trump, is 1.9m high and 78 years old.', 'Forbes Magazine has assessed his wealth, currently estimating it at $5.5 billion as of mid-February 2025.']\n"
     ]
    },
    {
     "name": "stderr",
     "output_type": "stream",
     "text": [
      "[nltk_data] Downloading package punkt to\n",
      "[nltk_data]     C:\\Users\\manue\\AppData\\Roaming\\nltk_data...\n",
      "[nltk_data]   Package punkt is already up-to-date!\n",
      "[nltk_data] Downloading package wordnet to\n",
      "[nltk_data]     C:\\Users\\manue\\AppData\\Roaming\\nltk_data...\n",
      "[nltk_data]   Package wordnet is already up-to-date!\n"
     ]
    }
   ],
   "source": [
    "#1\n",
    "import re\n",
    "import nltk\n",
    "from nltk.tokenize import sent_tokenize\n",
    "from nltk.stem import PorterStemmer, WordNetLemmatizer\n",
    "nltk.download('punkt')\n",
    "nltk.download('wordnet')\n",
    "\n",
    "splitsentence= sent_tokenize(text)\n",
    "\n",
    "print(splitsentence)"
   ]
  },
  {
   "cell_type": "code",
   "execution_count": null,
   "metadata": {},
   "outputs": [
    {
     "name": "stderr",
     "output_type": "stream",
     "text": [
      "<>:5: SyntaxWarning: 'int' object is not subscriptable; perhaps you missed a comma?\n",
      "<>:5: SyntaxWarning: 'int' object is not subscriptable; perhaps you missed a comma?\n",
      "C:\\Users\\manue\\AppData\\Local\\Temp\\ipykernel_11076\\3521223954.py:5: SyntaxWarning: 'int' object is not subscriptable; perhaps you missed a comma?\n",
      "  numsub= re.sub(npatern, npatern*100[:1]+'cm', sub)\n",
      "C:\\Users\\manue\\AppData\\Local\\Temp\\ipykernel_11076\\3521223954.py:5: SyntaxWarning: 'int' object is not subscriptable; perhaps you missed a comma?\n",
      "  numsub= re.sub(npatern, npatern*100[:1]+'cm', sub)\n",
      "C:\\Users\\manue\\AppData\\Local\\Temp\\ipykernel_11076\\3521223954.py:5: SyntaxWarning: 'int' object is not subscriptable; perhaps you missed a comma?\n",
      "  numsub= re.sub(npatern, npatern*100[:1]+'cm', sub)\n",
      "C:\\Users\\manue\\AppData\\Local\\Temp\\ipykernel_11076\\3521223954.py:5: SyntaxWarning: 'int' object is not subscriptable; perhaps you missed a comma?\n",
      "  numsub= re.sub(npatern, npatern*100[:1]+'cm', sub)\n",
      "C:\\Users\\manue\\AppData\\Local\\Temp\\ipykernel_11076\\3521223954.py:5: SyntaxWarning: 'int' object is not subscriptable; perhaps you missed a comma?\n",
      "  numsub= re.sub(npatern, npatern*100[:1]+'cm', sub)\n"
     ]
    },
    {
     "ename": "TypeError",
     "evalue": "'int' object is not subscriptable",
     "output_type": "error",
     "traceback": [
      "\u001b[1;31m---------------------------------------------------------------------------\u001b[0m",
      "\u001b[1;31mTypeError\u001b[0m                                 Traceback (most recent call last)",
      "Cell \u001b[1;32mIn[11], line 5\u001b[0m\n\u001b[0;32m      3\u001b[0m npatern\u001b[38;5;241m=\u001b[39m \u001b[38;5;124mr\u001b[39m\u001b[38;5;124m'\u001b[39m\u001b[38;5;124m\\\u001b[39m\u001b[38;5;124md\u001b[39m\u001b[38;5;124m\\\u001b[39m\u001b[38;5;124m.\u001b[39m\u001b[38;5;124m\\\u001b[39m\u001b[38;5;124mdm\u001b[39m\u001b[38;5;124m'\u001b[39m\n\u001b[0;32m      4\u001b[0m sub\u001b[38;5;241m=\u001b[39m re\u001b[38;5;241m.\u001b[39msub(patern, \u001b[38;5;124m'\u001b[39m\u001b[38;5;124mUSA\u001b[39m\u001b[38;5;124m'\u001b[39m, text)\n\u001b[1;32m----> 5\u001b[0m numsub\u001b[38;5;241m=\u001b[39m re\u001b[38;5;241m.\u001b[39msub(npatern, npatern\u001b[38;5;241m*\u001b[39m\u001b[38;5;241m100\u001b[39m[:\u001b[38;5;241m1\u001b[39m]\u001b[38;5;241m+\u001b[39m\u001b[38;5;124m'\u001b[39m\u001b[38;5;124mcm\u001b[39m\u001b[38;5;124m'\u001b[39m, sub)\n\u001b[0;32m      6\u001b[0m \u001b[38;5;28mprint\u001b[39m(sub)\n",
      "\u001b[1;31mTypeError\u001b[0m: 'int' object is not subscriptable"
     ]
    }
   ],
   "source": [
    "#2\n",
    "patern= r'\\bU\\.S\\.A\\b'\n",
    "npatern= r'\\d\\.\\dm'\n",
    "sub= re.sub(patern, 'USA', text)\n",
    "if npatern:\n",
    "    return npatern\n",
    "    \n",
    "numsub= re.sub(npatern, npatern*100[:1]+'cm', sub)\n",
    "print(sub)"
   ]
  }
 ],
 "metadata": {
  "kernelspec": {
   "display_name": "base",
   "language": "python",
   "name": "python3"
  },
  "language_info": {
   "codemirror_mode": {
    "name": "ipython",
    "version": 3
   },
   "file_extension": ".py",
   "mimetype": "text/x-python",
   "name": "python",
   "nbconvert_exporter": "python",
   "pygments_lexer": "ipython3",
   "version": "3.11.5"
  }
 },
 "nbformat": 4,
 "nbformat_minor": 2
}
