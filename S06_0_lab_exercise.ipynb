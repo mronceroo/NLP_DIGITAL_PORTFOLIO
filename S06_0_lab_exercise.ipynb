{
 "cells": [
  {
   "cell_type": "code",
   "execution_count": 36,
   "metadata": {},
   "outputs": [],
   "source": [
    "# For the next text, perform the following actions\n",
    "text = \"The president of the U.S.A., Donald Trump, is 1.9m high and 78 years old. Forbes Magazine has assessed his wealth, currently estimating it at $5.5 billion as of mid-February 2025.\"\n",
    "\n",
    "# (1 point) 1 - Use NLTK to split the sentences \n",
    "\n",
    "# (2 points) 2 - Convert with regex the acronym U.S.A. to USA, the number 1.9m to 190 centimeters or any other number of a height like that (e.g. 1.75m to 175 centimeters), and \"$5.5 billion\" to five point five billion. \n",
    "\n",
    "# (1 point) 3 - Convert to lowercase except the proper nouns that must keep the original case. For the multiword proper names convert them to an unique word joining the two word with underscoere (Juan Fernández -> Juan_Fernández).\n",
    "\n",
    "# (1 point) 4 - Tokenize the text (use the tool you prefer). \n",
    "\n",
    "# (1 point) 5 - Remove the stopwords (use the tool you prefer). \n",
    "\n",
    "# (1 point) 6 - Create bigrams with pure python.\n",
    "\n",
    "# (2 point) 7 - Create a language model that predict the next word using bigrams. Please explain in the code how you made the calculations.\n",
    "\n",
    "\n"
   ]
  },
  {
   "cell_type": "code",
   "execution_count": 37,
   "metadata": {},
   "outputs": [
    {
     "name": "stdout",
     "output_type": "stream",
     "text": [
      "['The president of the U.S.A., Donald Trump, is 1.9m high and 78 years old.', 'Forbes Magazine has assessed his wealth, currently estimating it at $5.5 billion as of mid-February 2025.']\n"
     ]
    },
    {
     "name": "stderr",
     "output_type": "stream",
     "text": [
      "[nltk_data] Downloading package punkt to\n",
      "[nltk_data]     C:\\Users\\manue\\AppData\\Roaming\\nltk_data...\n",
      "[nltk_data]   Package punkt is already up-to-date!\n",
      "[nltk_data] Downloading package wordnet to\n",
      "[nltk_data]     C:\\Users\\manue\\AppData\\Roaming\\nltk_data...\n",
      "[nltk_data]   Package wordnet is already up-to-date!\n"
     ]
    }
   ],
   "source": [
    "#1\n",
    "import re\n",
    "import nltk\n",
    "from nltk.tokenize import sent_tokenize\n",
    "from nltk.stem import PorterStemmer, WordNetLemmatizer\n",
    "nltk.download('punkt')\n",
    "nltk.download('wordnet')\n",
    "\n",
    "splitsentence= sent_tokenize(text)\n",
    "\n",
    "print(splitsentence)"
   ]
  },
  {
   "cell_type": "code",
   "execution_count": 38,
   "metadata": {},
   "outputs": [
    {
     "name": "stdout",
     "output_type": "stream",
     "text": [
      "The president of the USA., Donald Trump, is 190 centimeters high and 78 years old. Forbes Magazine has assessed his wealth, currently estimating it at five point five billion as of mid-February 2025.\n"
     ]
    }
   ],
   "source": [
    "#2\n",
    "patern= r'\\bU\\.S\\.A\\b'\n",
    "npatern= r'(\\d+)\\.(\\d+)m'\n",
    "mpatern= r'\\$(\\d+)\\.(\\d+) billion'\n",
    "text= re.sub(patern, 'USA', text)\n",
    "numbers= re.findall(npatern, text)\n",
    "moneys= re.findall(mpatern, text)\n",
    "num_to_words = {\n",
    "    '0': 'zero', '1': 'one', '2': 'two', '3': 'three', '4': 'four',\n",
    "    '5': 'five', '6': 'six', '7': 'seven', '8': 'eight', '9': 'nine'\n",
    "}\n",
    "for number in numbers:\n",
    "    meters = int(number[0])\n",
    "    decimeters = int(number[1])\n",
    "    total_cm = meters * 100  + decimeters*10\n",
    "    text = re.sub(f'{meters}\\.{decimeters}m', f'{total_cm} centimeters', text)\n",
    "    \n",
    "for money in moneys:\n",
    "    left = money[0]\n",
    "    right = money[1]\n",
    "    left_word = ' '.join(num_to_words[l] for l in left)\n",
    "    right_word = ' '.join(num_to_words[r] for r in right)\n",
    "    text = re.sub(f'\\${left}\\.{right} billion', f'{left_word} point {right_word} billion', text)\n",
    "    \n",
    "\n",
    "print(text)\n"
   ]
  },
  {
   "cell_type": "code",
   "execution_count": 41,
   "metadata": {},
   "outputs": [
    {
     "name": "stdout",
     "output_type": "stream",
     "text": [
      "The president of the USA ., Donald_Trump , is 190 centimeters high and 78 years old. Forbes_Magazine has assessed his wealth, currently estimating it at five point five billion as of mid-February 2025.\n"
     ]
    }
   ],
   "source": [
    "#3\n",
    "def preserve_proper_nouns(text):\n",
    "    words = re.findall(r\"\\b[A-Z][a-z]*\\b|\\b[A-Z]+\\b|[\\w$.,!?-]+\", text)  \n",
    "    result = []\n",
    "    temp_proper_noun = []\n",
    "\n",
    "    for i, word in enumerate(words):\n",
    "        if word[0].isupper() and word.isalpha(): \n",
    "            temp_proper_noun.append(word)  \n",
    "        else:\n",
    "            if temp_proper_noun:\n",
    "                result.append(\"_\".join(temp_proper_noun))  \n",
    "                temp_proper_noun = []  \n",
    "            result.append(word.lower() if word.isalpha() else word) \n",
    "\n",
    "    if temp_proper_noun:\n",
    "        result.append(\"_\".join(temp_proper_noun))\n",
    "\n",
    "    return \" \".join(result)\n",
    "\n",
    "converted_text = preserve_proper_nouns(text)\n",
    "print(converted_text)\n",
    "\n",
    "\n"
   ]
  },
  {
   "cell_type": "code",
   "execution_count": 42,
   "metadata": {},
   "outputs": [
    {
     "name": "stdout",
     "output_type": "stream",
     "text": [
      "['The', 'president', 'of', 'the', 'USA.', ',', 'Donald', 'Trump', ',', 'is', '190', 'centimeters', 'high', 'and', '78', 'years', 'old', '.', 'Forbes', 'Magazine', 'has', 'assessed', 'his', 'wealth', ',', 'currently', 'estimating', 'it', 'at', 'five', 'point', 'five', 'billion', 'as', 'of', 'mid-February', '2025', '.']\n"
     ]
    }
   ],
   "source": [
    "#4\n",
    "nltk_tokens = nltk.word_tokenize(text)\n",
    "print(nltk_tokens)"
   ]
  }
 ],
 "metadata": {
  "kernelspec": {
   "display_name": "base",
   "language": "python",
   "name": "python3"
  },
  "language_info": {
   "codemirror_mode": {
    "name": "ipython",
    "version": 3
   },
   "file_extension": ".py",
   "mimetype": "text/x-python",
   "name": "python",
   "nbconvert_exporter": "python",
   "pygments_lexer": "ipython3",
   "version": "3.11.5"
  }
 },
 "nbformat": 4,
 "nbformat_minor": 2
}
