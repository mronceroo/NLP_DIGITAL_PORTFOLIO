{
 "cells": [
  {
   "cell_type": "markdown",
   "metadata": {},
   "source": [
    "# Exercises before\n",
    "\n",
    "Create a corpus with phrases and annotate it with positive or negative. Build a very simple sentiment analysis with regex and use corpus to calculate sentiment (positive or negative). Count how many True Positives (TP), False Positives (FP), True Negatives (TN), and False Negatives (FN) you have. Tweet the corpus or the regexp to have non-zero variables. Make the calculations of Precission, Recall, and F1 following the class materials.   "
   ]
  },
  {
   "cell_type": "code",
   "execution_count": null,
   "metadata": {
    "vscode": {
     "languageId": "plaintext"
    }
   },
   "outputs": [],
   "source": []
  }
 ],
 "metadata": {
  "language_info": {
   "name": "python"
  }
 },
 "nbformat": 4,
 "nbformat_minor": 2
}
