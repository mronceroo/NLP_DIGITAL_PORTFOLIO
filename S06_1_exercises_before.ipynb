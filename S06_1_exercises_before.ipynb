{
 "cells": [
  {
   "cell_type": "markdown",
   "metadata": {},
   "source": [
    "# Exercises before\n",
    "\n",
    "Create a corpus with phrases and annotate it with positive or negative. Build a very simple sentiment analysis with regex and use corpus to calculate sentiment (positive or negative). Count how many True Positives (TP), False Positives (FP), True Negatives (TN), and False Negatives (FN) you have. Tweet the corpus or the regexp to have non-zero variables. Make the calculations of Precission, Recall, and F1 following the class materials.   "
   ]
  },
  {
   "cell_type": "code",
   "execution_count": null,
   "metadata": {},
   "outputs": [
    {
     "ename": "SyntaxError",
     "evalue": "invalid syntax (2270414378.py, line 20)",
     "output_type": "error",
     "traceback": [
      "\u001b[1;36m  Cell \u001b[1;32mIn[3], line 20\u001b[1;36m\u001b[0m\n\u001b[1;33m    for token:\u001b[0m\n\u001b[1;37m             ^\u001b[0m\n\u001b[1;31mSyntaxError\u001b[0m\u001b[1;31m:\u001b[0m invalid syntax\n"
     ]
    }
   ],
   "source": [
    "import re\n",
    "from collections import Counter\n",
    "corpus = [\n",
    "    (\"Today was a great day.\", \"positive\")\n",
    "    \"Tomorrow will be raining all the day, I am sad.\",\n",
    "    \"Next week is my birthday, I am excited.\",\n",
    "    \"I lost the train this morning so that is why I got late.\"\n",
    "]\n",
    "\n",
    "Positive= ['great','birthday','excited']\n",
    "Negative= ['sad', 'lost', 'late']\n",
    "\n",
    "pattern = r'\\b\\w+\\b'\n",
    "token = re.findall(pattern, corpus.lower())\n",
    "\n",
    "totalpos = Counter()\n",
    "totalneg = Counter()\n",
    "\n",
    "for sentence in corpus:\n",
    "    for token in tokens:\n",
    "    if token in Positive:\n",
    "        totalpos[token] +=1\n",
    "    if token in Negative:\n",
    "        totalneg[token] +=1\n",
    "\n",
    "print(totalpos, totalneg)\n",
    "\n"
   ]
  }
 ],
 "metadata": {
  "kernelspec": {
   "display_name": "base",
   "language": "python",
   "name": "python3"
  },
  "language_info": {
   "codemirror_mode": {
    "name": "ipython",
    "version": 3
   },
   "file_extension": ".py",
   "mimetype": "text/x-python",
   "name": "python",
   "nbconvert_exporter": "python",
   "pygments_lexer": "ipython3",
   "version": "3.11.5"
  }
 },
 "nbformat": 4,
 "nbformat_minor": 2
}
