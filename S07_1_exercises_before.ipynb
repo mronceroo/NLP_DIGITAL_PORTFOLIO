{
 "cells": [
  {
   "cell_type": "markdown",
   "metadata": {},
   "source": [
    "# Playing with concepts\n",
    "\n",
    "This activity pretends that you play around with the concepts and python code, explore libraries, make experiments, and in general check theory with practice and with reality. To do that, you can use any tool you want including LLMs. Just try to have some findings after your experimentation process for most concepts we have seen. Use libraries like, NLTK, Spacy. Research how to implement the theory we have seen like ngrams, naive-bayes, language models...\n",
    "\n",
    "Yes, it is very similar than exercise S05_3, so if you have started it, you can start from the code you already have. "
   ]
  },
  {
   "cell_type": "code",
   "execution_count": 1,
   "metadata": {},
   "outputs": [
    {
     "name": "stdout",
     "output_type": "stream",
     "text": [
      "Bigrams: [('Natural', 'language'), ('language', 'processing'), ('processing', 'is'), ('is', 'a'), ('a', 'fascinating'), ('fascinating', 'field'), ('field', 'of'), ('of', 'study'), ('study', '.')]\n",
      "Trigrams: [('Natural', 'language', 'processing'), ('language', 'processing', 'is'), ('processing', 'is', 'a'), ('is', 'a', 'fascinating'), ('a', 'fascinating', 'field'), ('fascinating', 'field', 'of'), ('field', 'of', 'study'), ('of', 'study', '.')]\n"
     ]
    }
   ],
   "source": [
    "import nltk\n",
    "from nltk.util import ngrams\n",
    "from nltk.tokenize import word_tokenize\n",
    "\n",
    "text = \"Natural language processing is a fascinating field of study.\"\n",
    "\n",
    "tokens = word_tokenize(text)\n",
    "\n",
    "bigrams = list(ngrams(tokens, 2))\n",
    "\n",
    "trigrams = list(ngrams(tokens, 3))\n",
    "\n",
    "print(\"Bigrams:\", bigrams)\n",
    "print(\"Trigrams:\", trigrams)"
   ]
  },
  {
   "cell_type": "code",
   "execution_count": 2,
   "metadata": {},
   "outputs": [
    {
     "name": "stdout",
     "output_type": "stream",
     "text": [
      "Accuracy: 0.81\n",
      "Most Informative Features\n",
      "        contains(seagal) = True              neg : pos    =     13.3 : 1.0\n",
      "   contains(outstanding) = True              pos : neg    =     11.1 : 1.0\n",
      "         contains(mulan) = True              pos : neg    =      8.5 : 1.0\n",
      "   contains(wonderfully) = True              pos : neg    =      7.7 : 1.0\n",
      "          contains(lame) = True              neg : pos    =      6.0 : 1.0\n",
      "         contains(flynt) = True              pos : neg    =      5.8 : 1.0\n",
      "         contains(damon) = True              pos : neg    =      5.8 : 1.0\n",
      "         contains(awful) = True              neg : pos    =      5.3 : 1.0\n",
      "        contains(wasted) = True              neg : pos    =      5.3 : 1.0\n",
      "    contains(ridiculous) = True              neg : pos    =      5.0 : 1.0\n"
     ]
    }
   ],
   "source": [
    "from nltk.corpus import movie_reviews\n",
    "from nltk.classify import NaiveBayesClassifier\n",
    "from nltk.classify.util import accuracy\n",
    "import random\n",
    "\n",
    "documents = [(list(movie_reviews.words(fileid)), category)\n",
    "             for category in movie_reviews.categories()\n",
    "             for fileid in movie_reviews.fileids(category)]\n",
    "random.shuffle(documents)\n",
    "\n",
    "all_words = nltk.FreqDist(w.lower() for w in movie_reviews.words())\n",
    "word_features = list(all_words)[:2000] \n",
    "\n",
    "def document_features(document):\n",
    "    document_words = set(document)\n",
    "    features = {}\n",
    "    for word in word_features:\n",
    "        features[f'contains({word})'] = (word in document_words)\n",
    "    return features\n",
    "\n",
    "featuresets = [(document_features(d), c) for (d, c) in documents]\n",
    "\n",
    "train_set, test_set = featuresets[100:], featuresets[:100]\n",
    "\n",
    "classifier = NaiveBayesClassifier.train(train_set)\n",
    "\n",
    "print(\"Accuracy:\", accuracy(classifier, test_set))\n",
    "\n",
    "classifier.show_most_informative_features(10)"
   ]
  }
 ],
 "metadata": {
  "kernelspec": {
   "display_name": "base",
   "language": "python",
   "name": "python3"
  },
  "language_info": {
   "codemirror_mode": {
    "name": "ipython",
    "version": 3
   },
   "file_extension": ".py",
   "mimetype": "text/x-python",
   "name": "python",
   "nbconvert_exporter": "python",
   "pygments_lexer": "ipython3",
   "version": "3.11.5"
  }
 },
 "nbformat": 4,
 "nbformat_minor": 2
}
