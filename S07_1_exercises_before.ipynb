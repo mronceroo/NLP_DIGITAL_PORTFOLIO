{
 "cells": [
  {
   "cell_type": "markdown",
   "metadata": {},
   "source": [
    "# Playing with concepts\n",
    "\n",
    "This activity pretends that you play around with the concepts and python code, explore libraries, make experiments, and in general check theory with practice and with reality. To do that, you can use any tool you want including LLMs. Just try to have some findings after your experimentation process for most concepts we have seen. Use libraries like, NLTK, Spacy. Research how to implement the theory we have seen like ngrams, naive-bayes, language models...\n",
    "\n",
    "Yes, it is very similar than exercise S05_3, so if you have started it, you can start from the code you already have. "
   ]
  },
  {
   "cell_type": "code",
   "execution_count": 1,
   "metadata": {},
   "outputs": [
    {
     "name": "stdout",
     "output_type": "stream",
     "text": [
      "Bigrams: [('Natural', 'language'), ('language', 'processing'), ('processing', 'is'), ('is', 'a'), ('a', 'fascinating'), ('fascinating', 'field'), ('field', 'of'), ('of', 'study'), ('study', '.')]\n",
      "Trigrams: [('Natural', 'language', 'processing'), ('language', 'processing', 'is'), ('processing', 'is', 'a'), ('is', 'a', 'fascinating'), ('a', 'fascinating', 'field'), ('fascinating', 'field', 'of'), ('field', 'of', 'study'), ('of', 'study', '.')]\n"
     ]
    }
   ],
   "source": [
    "import nltk\n",
    "from nltk.util import ngrams\n",
    "from nltk.tokenize import word_tokenize\n",
    "\n",
    "text = \"Natural language processing is a fascinating field of study.\"\n",
    "\n",
    "tokens = word_tokenize(text)\n",
    "\n",
    "bigrams = list(ngrams(tokens, 2))\n",
    "\n",
    "trigrams = list(ngrams(tokens, 3))\n",
    "\n",
    "print(\"Bigrams:\", bigrams)\n",
    "print(\"Trigrams:\", trigrams)"
   ]
  },
  {
   "cell_type": "code",
   "execution_count": null,
   "metadata": {},
   "outputs": [],
   "source": []
  }
 ],
 "metadata": {
  "kernelspec": {
   "display_name": "base",
   "language": "python",
   "name": "python3"
  },
  "language_info": {
   "codemirror_mode": {
    "name": "ipython",
    "version": 3
   },
   "file_extension": ".py",
   "mimetype": "text/x-python",
   "name": "python",
   "nbconvert_exporter": "python",
   "pygments_lexer": "ipython3",
   "version": "3.11.5"
  }
 },
 "nbformat": 4,
 "nbformat_minor": 2
}
