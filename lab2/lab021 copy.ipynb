{
  "cells": [
    {
      "cell_type": "markdown",
      "metadata": {
        "id": "Pe55OPlQMJj6"
      },
      "source": [
        "## We import the required bookstores"
      ]
    },
    {
      "cell_type": "code",
      "execution_count": 22,
      "metadata": {
        "colab": {
          "base_uri": "https://localhost:8080/"
        },
        "id": "591VtpFKMUhq",
        "outputId": "58b0a782-7057-4402-ff6c-ca93d15746fc"
      },
      "outputs": [],
      "source": [
        "import pandas as pd\n",
        "import numpy as np\n",
        "import re\n",
        "import tensorflow as tf\n",
        "from tensorflow.keras.preprocessing.text import Tokenizer\n",
        "from tensorflow.keras.preprocessing.sequence import pad_sequences\n",
        "from tensorflow.keras.utils import to_categorical\n",
        "from tensorflow.keras.models import Sequential\n",
        "from tensorflow.keras.layers import Embedding, LSTM, Dense, SpatialDropout1D\n",
        "from sklearn.preprocessing import LabelEncoder\n",
        "from sklearn.metrics import classification_report, confusion_matrix\n",
        "import matplotlib.pyplot as plt\n",
        "import seaborn as sns"
      ]
    },
    {
      "cell_type": "markdown",
      "metadata": {
        "id": "h-W12wnGMhbY"
      },
      "source": [
        "## We visualize the dataset"
      ]
    },
    {
      "cell_type": "code",
      "execution_count": 23,
      "metadata": {
        "id": "7ClOMgfEMkjs"
      },
      "outputs": [],
      "source": [
        "df_train = pd.read_csv(\"sent_train.csv\")\n",
        "df_valid = pd.read_csv(\"sent_valid.csv\")"
      ]
    },
    {
      "cell_type": "markdown",
      "metadata": {
        "id": "nlt52ToUM-e7"
      },
      "source": [
        "## Prepoccesing"
      ]
    },
    {
      "cell_type": "code",
      "execution_count": 24,
      "metadata": {
        "colab": {
          "base_uri": "https://localhost:8080/"
        },
        "id": "uVq6vdHjM6c3",
        "outputId": "6e12b1c0-9d07-44bb-e44d-e2a6a1bbb4af"
      },
      "outputs": [],
      "source": [
        "sentiments = {\"LABEL_0\": \"Bearish\", \"LABEL_1\": \"Bullish\", \"LABEL_2\": \"Neutral\"}"
      ]
    },
    {
      "cell_type": "code",
      "execution_count": 25,
      "metadata": {},
      "outputs": [],
      "source": [
        "def clean_text(text):\n",
        "    text = text.lower()  \n",
        "    text = re.sub(r'http\\S+', '', text)  #delete urls\n",
        "    text = re.sub(r'[^a-zA-Z\\s]', '', text) #delete spacial characters\n",
        "    return text.strip()"
      ]
    },
    {
      "cell_type": "code",
      "execution_count": null,
      "metadata": {},
      "outputs": [],
      "source": [
        "df_train['text'] = df_train['text'].astype(str).apply(clean_text)#Asegurar que todos los elementos sean texto\n",
        "df_valid['text'] = df_valid['text'].astype(str).apply(clean_text)"
      ]
    },
    {
      "cell_type": "markdown",
      "metadata": {},
      "source": [
        "## Training"
      ]
    },
    {
      "cell_type": "code",
      "execution_count": 27,
      "metadata": {},
      "outputs": [],
      "source": [
        "tokenizer = Tokenizer(num_words=5000, oov_token=\"<OOV>\")\n",
        "tokenizer.fit_on_texts(df_train['text'])\n",
        "\n",
        "X_train = tokenizer.texts_to_sequences(df_train['text'])\n",
        "X_valid = tokenizer.texts_to_sequences(df_valid['text'])"
      ]
    },
    {
      "cell_type": "markdown",
      "metadata": {},
      "source": [
        "## Padding"
      ]
    },
    {
      "cell_type": "code",
      "execution_count": null,
      "metadata": {},
      "outputs": [],
      "source": [
        "max_length = 50\n",
        "X_train = pad_sequences(X_train, maxlen=max_length, padding='post')\n",
        "X_valid = pad_sequences(X_valid, maxlen=max_length, padding='post')"
      ]
    },
    {
      "cell_type": "markdown",
      "metadata": {},
      "source": [
        "## Label codifications"
      ]
    },
    {
      "cell_type": "code",
      "execution_count": 29,
      "metadata": {},
      "outputs": [],
      "source": [
        "label_encoder = LabelEncoder()\n",
        "y_train = label_encoder.fit_transform(df_train['label'])\n",
        "y_valid = label_encoder.transform(df_valid['label'])"
      ]
    },
    {
      "cell_type": "markdown",
      "metadata": {},
      "source": [
        "## Labels Enteros"
      ]
    },
    {
      "cell_type": "code",
      "execution_count": 30,
      "metadata": {},
      "outputs": [],
      "source": [
        "#y_train = to_categorical(y_train, num_classes=3)\n",
        "#y_valid = to_categorical(y_valid, num_classes=3)"
      ]
    },
    {
      "cell_type": "code",
      "execution_count": 31,
      "metadata": {},
      "outputs": [],
      "source": [
        "y_train = label_encoder.fit_transform(df_train['label'])\n",
        "y_valid = label_encoder.transform(df_valid['label'])"
      ]
    },
    {
      "cell_type": "markdown",
      "metadata": {},
      "source": [
        "## LSTM building"
      ]
    },
    {
      "cell_type": "code",
      "execution_count": 32,
      "metadata": {},
      "outputs": [
        {
          "name": "stderr",
          "output_type": "stream",
          "text": [
            "c:\\Users\\manue\\Anaconda\\Lib\\site-packages\\keras\\src\\layers\\core\\embedding.py:90: UserWarning: Argument `input_length` is deprecated. Just remove it.\n",
            "  warnings.warn(\n"
          ]
        }
      ],
      "source": [
        "model = Sequential([\n",
        "    Embedding(input_dim=5000, output_dim=128, input_length=max_length),\n",
        "    SpatialDropout1D(0.2),\n",
        "    LSTM(256, return_sequences=True, dropout=0.2),  # LSTM aditional layer\n",
        "    LSTM(128, dropout=0.2),\n",
        "    Dense(64, activation='relu'),\n",
        "    Dense(3, activation='softmax')\n",
        "])"
      ]
    },
    {
      "cell_type": "markdown",
      "metadata": {},
      "source": [
        "## Compilation"
      ]
    },
    {
      "cell_type": "code",
      "execution_count": 33,
      "metadata": {},
      "outputs": [],
      "source": [
        "#model.compile(loss='categorical_crossentropy', optimizer='adam', metrics=['accuracy'])"
      ]
    },
    {
      "cell_type": "code",
      "execution_count": 34,
      "metadata": {},
      "outputs": [],
      "source": [
        "model.compile(loss='sparse_categorical_crossentropy', optimizer='adam', metrics=['accuracy'])"
      ]
    },
    {
      "cell_type": "markdown",
      "metadata": {},
      "source": [
        "## Train model"
      ]
    },
    {
      "cell_type": "code",
      "execution_count": 35,
      "metadata": {},
      "outputs": [
        {
          "name": "stdout",
          "output_type": "stream",
          "text": [
            "Epoch 1/10\n",
            "299/299 - 126s - 423ms/step - accuracy: 0.6458 - loss: 0.8986 - val_accuracy: 0.6558 - val_loss: 0.8844\n",
            "Epoch 2/10\n",
            "299/299 - 108s - 363ms/step - accuracy: 0.6474 - loss: 0.8919 - val_accuracy: 0.6558 - val_loss: 0.8832\n",
            "Epoch 3/10\n",
            "299/299 - 104s - 347ms/step - accuracy: 0.6474 - loss: 0.8925 - val_accuracy: 0.6558 - val_loss: 0.8789\n",
            "Epoch 4/10\n",
            "299/299 - 111s - 371ms/step - accuracy: 0.6474 - loss: 0.8919 - val_accuracy: 0.6558 - val_loss: 0.8788\n",
            "Epoch 5/10\n",
            "299/299 - 101s - 338ms/step - accuracy: 0.6474 - loss: 0.8909 - val_accuracy: 0.6558 - val_loss: 0.8804\n",
            "Epoch 6/10\n",
            "299/299 - 101s - 337ms/step - accuracy: 0.6474 - loss: 0.8912 - val_accuracy: 0.6558 - val_loss: 0.8792\n",
            "Epoch 7/10\n",
            "299/299 - 96s - 321ms/step - accuracy: 0.6474 - loss: 0.8909 - val_accuracy: 0.6558 - val_loss: 0.8783\n",
            "Epoch 8/10\n",
            "299/299 - 97s - 323ms/step - accuracy: 0.6474 - loss: 0.8910 - val_accuracy: 0.6558 - val_loss: 0.8803\n",
            "Epoch 9/10\n",
            "299/299 - 94s - 313ms/step - accuracy: 0.6474 - loss: 0.8912 - val_accuracy: 0.6558 - val_loss: 0.8785\n",
            "Epoch 10/10\n",
            "299/299 - 84s - 281ms/step - accuracy: 0.6474 - loss: 0.8918 - val_accuracy: 0.6558 - val_loss: 0.8784\n"
          ]
        }
      ],
      "source": [
        "#history = model.fit(X_train, y_train, epochs=10, batch_size=64, validation_data=(X_valid, y_valid))\n",
        "history = model.fit(X_train, y_train, epochs=10, validation_data=(X_valid, y_valid), verbose=2)"
      ]
    },
    {
      "cell_type": "code",
      "execution_count": 36,
      "metadata": {},
      "outputs": [
        {
          "data": {
            "image/png": "[encoded data removed]",
            "text/plain": [
              "<Figure size 640x480 with 1 Axes>"
            ]
          },
          "metadata": {},
          "output_type": "display_data"
        },
        {
          "data": {
            "image/png": "[encoded data removed]",
            "text/plain": [
              "<Figure size 640x480 with 1 Axes>"
            ]
          },
          "metadata": {},
          "output_type": "display_data"
        }
      ],
      "source": [
        "def plot_graphs(history, string):\n",
        "  plt.plot(history.history[string])\n",
        "  plt.plot(history.history['val_'+string])\n",
        "  plt.xlabel(\"Epochs\")\n",
        "  plt.ylabel(string)\n",
        "  plt.legend([string, 'val_'+string])\n",
        "  plt.show()\n",
        "\n",
        "plot_graphs(history, \"accuracy\")\n",
        "plot_graphs(history, \"loss\")"
      ]
    },
    {
      "cell_type": "markdown",
      "metadata": {},
      "source": [
        "## Evaluate"
      ]
    },
    {
      "cell_type": "code",
      "execution_count": 37,
      "metadata": {},
      "outputs": [
        {
          "name": "stdout",
          "output_type": "stream",
          "text": [
            "\u001b[1m75/75\u001b[0m \u001b[32m━━━━━━━━━━━━━━━━━━━━\u001b[0m\u001b[37m\u001b[0m \u001b[1m7s\u001b[0m 95ms/step\n",
            "              precision    recall  f1-score   support\n",
            "\n",
            "     Bearish       0.00      0.00      0.00       347\n",
            "     Bullish       0.00      0.00      0.00       475\n",
            "     Neutral       0.66      1.00      0.79      1566\n",
            "\n",
            "    accuracy                           0.66      2388\n",
            "   macro avg       0.22      0.33      0.26      2388\n",
            "weighted avg       0.43      0.66      0.52      2388\n",
            "\n"
          ]
        },
        {
          "name": "stderr",
          "output_type": "stream",
          "text": [
            "c:\\Users\\manue\\Anaconda\\Lib\\site-packages\\sklearn\\metrics\\_classification.py:1469: UndefinedMetricWarning: Precision and F-score are ill-defined and being set to 0.0 in labels with no predicted samples. Use `zero_division` parameter to control this behavior.\n",
            "  _warn_prf(average, modifier, msg_start, len(result))\n",
            "c:\\Users\\manue\\Anaconda\\Lib\\site-packages\\sklearn\\metrics\\_classification.py:1469: UndefinedMetricWarning: Precision and F-score are ill-defined and being set to 0.0 in labels with no predicted samples. Use `zero_division` parameter to control this behavior.\n",
            "  _warn_prf(average, modifier, msg_start, len(result))\n",
            "c:\\Users\\manue\\Anaconda\\Lib\\site-packages\\sklearn\\metrics\\_classification.py:1469: UndefinedMetricWarning: Precision and F-score are ill-defined and being set to 0.0 in labels with no predicted samples. Use `zero_division` parameter to control this behavior.\n",
            "  _warn_prf(average, modifier, msg_start, len(result))\n"
          ]
        }
      ],
      "source": [
        "y_pred = model.predict(X_valid)\n",
        "y_pred_classes = np.argmax(y_pred, axis=1)\n",
        "y_true_classes = y_valid\n",
        "\n",
        "print(classification_report(y_true_classes, y_pred_classes, target_names=sentiments.values()))"
      ]
    },
    {
      "cell_type": "markdown",
      "metadata": {},
      "source": [
        "For better metrics I will change the parameters increasing the LSTM units adding more layes or adjusting the dropout for excessive looss"
      ]
    }
  ],
  "metadata": {
    "accelerator": "GPU",
    "colab": {
      "gpuType": "T4",
      "include_colab_link": true,
      "provenance": []
    },
    "kernelspec": {
      "display_name": "base",
      "language": "python",
      "name": "python3"
    },
    "language_info": {
      "codemirror_mode": {
        "name": "ipython",
        "version": 3
      },
      "file_extension": ".py",
      "mimetype": "text/x-python",
      "name": "python",
      "nbconvert_exporter": "python",
      "pygments_lexer": "ipython3",
      "version": "3.11.5"
    }
  },
  "nbformat": 4,
  "nbformat_minor": 0
}
